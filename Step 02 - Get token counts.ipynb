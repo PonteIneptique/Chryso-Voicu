{
 "cells": [
  {
   "cell_type": "code",
   "execution_count": 1,
   "id": "74b5929c",
   "metadata": {},
   "outputs": [
    {
     "name": "stdout",
     "output_type": "stream",
     "text": [
      "6109 found.\n"
     ]
    }
   ],
   "source": [
    "from collections import Counter\n",
    "import pandas\n",
    "import json\n",
    "import regex as re\n",
    "from typing import Generator\n",
    "\n",
    "texts = pandas.read_csv(\"./pc-texts.csv\")\n",
    "#texts.drop(labels=[\"Auteur réel si différent\", \"Source attrib (lien, doi, bibl)\", \"Auteur\", \"Source\"], axis=1,\n",
    "#           inplace=True)\n",
    "\n",
    "texts = texts[texts.tokens > 1000]\n",
    "\n",
    "\n",
    "with open(\"stopwords.json\") as f:\n",
    "    STOPWORDS = json.load(f)\n",
    "\n",
    "#KEEP = ('TYPOGRAPHICAL SYMBOLS', 'SINGLE LETTERS (LATIN)', 'SINGLE LETTERS (GREEK)', 'GREEK NUMERALS (1-100)',\n",
    "#        \"ARABIC NUMERALS (0-100)\", 'ROMAN NUMERALS (1-100)', 'CRITICAL ABBREVIATIONS', 'ARTICLES', 'PARTICLES',\n",
    "#        'INTERJECTIONS', 'CONJUNCTIONS', 'PREPOSITIONS/POSTPOSITIONS', 'ADVERBS', 'PRONOUNS', 'NOUNS', 'ADJECTIVES',\n",
    "#        'VERBS')\n",
    "\n",
    "KEEP = ('ARTICLES', 'PARTICLES', 'INTERJECTIONS', 'CONJUNCTIONS', 'PREPOSITIONS/POSTPOSITIONS', 'ADVERBS', 'PRONOUNS',\n",
    "        'ADJECTIVES', 'VERBS')\n",
    "\n",
    "\n",
    "def recursive_stopwords(sw_dict: dict) -> Generator[str, str, None]:\n",
    "    for key, value in sw_dict.items():\n",
    "        if isinstance(value, list):\n",
    "            yield from value\n",
    "        else:\n",
    "            yield from recursive_stopwords(value)\n",
    "\n",
    "\n",
    "STOPWORDS = set(recursive_stopwords({k: v for k, v in STOPWORDS.items() if k in KEEP}))\n",
    "\n",
    "\n",
    "print(f\"{len(STOPWORDS)} found.\")\n",
    "\n",
    "\n",
    "def get_function_words(string: str) -> Counter:\n",
    "    string = re.sub(r\"[[:punct:]]\", \" \", string.replace(\"ʹ\", \"'\"))\n",
    "    words = [w for w in string.split() if w in STOPWORDS]\n",
    "    return Counter(words)\n",
    "\n",
    "\n",
    "total = Counter()\n",
    "FWORDS_DF = []\n",
    "\n",
    "for idx, text in texts.iterrows():\n",
    "    fwords = get_function_words(text.text)\n",
    "    total += fwords\n",
    "    FWORDS_DF.append({**text.to_dict(), **fwords})\n",
    "\n",
    "FWORDS_DF = pandas.DataFrame(FWORDS_DF)\n",
    "del FWORDS_DF[\"text\"]\n",
    "\n",
    "FWORDS_DF.fillna(0).to_csv(\"pc-function-words.csv\", index=False)"
   ]
  }
 ],
 "metadata": {
  "kernelspec": {
   "display_name": "Python 3 (ipykernel)",
   "language": "python",
   "name": "python3"
  },
  "language_info": {
   "codemirror_mode": {
    "name": "ipython",
    "version": 3
   },
   "file_extension": ".py",
   "mimetype": "text/x-python",
   "name": "python",
   "nbconvert_exporter": "python",
   "pygments_lexer": "ipython3",
   "version": "3.10.6"
  }
 },
 "nbformat": 4,
 "nbformat_minor": 5
}
