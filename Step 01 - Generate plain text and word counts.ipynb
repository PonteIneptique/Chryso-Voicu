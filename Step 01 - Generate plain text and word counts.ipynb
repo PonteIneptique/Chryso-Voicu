{
 "cells": [
  {
   "cell_type": "code",
   "execution_count": 1,
   "id": "97aa93fe",
   "metadata": {},
   "outputs": [],
   "source": [
    "import lxml.etree as ET\n",
    "import glob\n",
    "import csv\n",
    "import os.path\n",
    "import pandas\n",
    "import regex as re\n",
    "import unicodedata\n",
    "\n",
    "\n",
    "def normalize(text: str) -> str:\n",
    "    return unicodedata.normalize(\"NFKC\", re.sub(r\"\\s{2,}|\\n+\", \" \", text))\n",
    "\n",
    "cnt = re.compile(\"\\w+\")\n",
    "\n",
    "NS = {\"namespaces\": {\"t\": \"http://www.tei-c.org/ns/1.0\"}}\n",
    "\n",
    "XSL = \"\"\"<xsl:stylesheet xmlns:xsl=\"http://www.w3.org/1999/XSL/Transform\"\n",
    "    xmlns:xs=\"http://www.w3.org/2001/XMLSchema\"\n",
    "    xmlns:t=\"http://www.tei-c.org/ns/1.0\"\n",
    "    exclude-result-prefixes=\"xs\"\n",
    "    version=\"1.0\">\n",
    "    <xsl:output method=\"text\"/>\n",
    "    <xsl:template match=\"t:TEI\">\n",
    "        <xsl:apply-templates select=\"//t:body\" />\n",
    "    </xsl:template>\n",
    "    <xsl:template match=\"t:body\">\n",
    "        <xsl:apply-templates/>\n",
    "    </xsl:template>\n",
    "    <xsl:template match=\"t:label\"/>\n",
    "</xsl:stylesheet>\"\"\"\n",
    "\n",
    "XSL = ET.XSLT(ET.fromstring(XSL))\n",
    "\n",
    "data = []\n",
    "\n",
    "for file in glob.glob(\"./tei/*.xml\"):\n",
    "    xml = ET.parse(file)\n",
    "    text = normalize(str(XSL(xml))).strip()\n",
    "    data.append({\n",
    "        \"file\": os.path.basename(file),\n",
    "        \"author\": os.path.basename(file).split(\"-\")[0],\n",
    "        \"title\": os.path.basename(file).split(\"-\")[1][:-4],\n",
    "        \"text\": text,\n",
    "        \"tokens\": len(cnt.findall(text))\n",
    "    })\n",
    "\n",
    "df = pandas.DataFrame(data)\n",
    "df.to_csv(\"texts.csv\", index=False)\n"
   ]
  },
  {
   "cell_type": "code",
   "execution_count": 2,
   "id": "cf1aa1f1",
   "metadata": {},
   "outputs": [
    {
     "data": {
      "text/plain": [
       "<AxesSubplot:>"
      ]
     },
     "execution_count": 2,
     "metadata": {},
     "output_type": "execute_result"
    },
    {
     "data": {
      "image/png": "[encoded data removed]",
      "text/plain": [
       "<Figure size 432x288 with 1 Axes>"
      ]
     },
     "metadata": {
      "needs_background": "light"
     },
     "output_type": "display_data"
    }
   ],
   "source": [
    " df.tokens.plot.box()"
   ]
  }
 ],
 "metadata": {
  "kernelspec": {
   "display_name": "Python 3 (ipykernel)",
   "language": "python",
   "name": "python3"
  },
  "language_info": {
   "codemirror_mode": {
    "name": "ipython",
    "version": 3
   },
   "file_extension": ".py",
   "mimetype": "text/x-python",
   "name": "python",
   "nbconvert_exporter": "python",
   "pygments_lexer": "ipython3",
   "version": "3.10.6"
  }
 },
 "nbformat": 4,
 "nbformat_minor": 5
}
